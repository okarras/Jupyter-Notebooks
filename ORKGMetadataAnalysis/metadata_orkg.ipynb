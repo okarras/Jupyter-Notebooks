{
 "cells": [
  {
   "cell_type": "markdown",
   "metadata": {},
   "source": [
    "# Analyzing the Metadata of Publications in the Open Research Knowledge Graph \n",
    "This Jupyter notebook contains different analyses of scholarly knowledge from scientific publications on the topic of *Tailored Forming Processes for Manufacturing Components with Bearing Raceways Using Different Material Combinations* from the research field *Mechanical Process Engineering*. These analyses are based on domain-specific questions on the described scholarly knowledge raised by domain experts in this research area. While the individual questions are presented below for overview, their details are explained in the respective section of this Jupyter notebook."
   ]
  },
  {
   "cell_type": "markdown",
   "metadata": {},
   "source": [
    "## Loading data from ORKG SPAQRL endpoint\n",
    "First, the metadata of the publications in the *Open Research Knowledge Graph*  ([ORKG](https://www.orkg.org/orkg/)) is loaded."
   ]
  },
  {
   "cell_type": "code",
   "execution_count": 86,
   "metadata": {},
   "outputs": [
    {
     "name": "stdout",
     "output_type": "stream",
     "text": [
      "9880\n"
     ]
    }
   ],
   "source": [
    "%matplotlib widget\n",
    "from SPARQLWrapper import SPARQLWrapper, CSV\n",
    "from datetime import datetime\n",
    "import seaborn as sns\n",
    "import matplotlib.pyplot as plt\n",
    "import numpy as np\n",
    "import pandas as pd\n",
    "import sys\n",
    "\n",
    "ENDPOINT_URL = \"https://www.orkg.org/orkg/triplestore\"\n",
    "\n",
    "PREFIXES =  \"\"\"\n",
    "            PREFIX orkgr: <http://orkg.org/orkg/resource/>\n",
    "            PREFIX orkgc: <http://orkg.org/orkg/class/>\n",
    "            PREFIX orkgp: <http://orkg.org/orkg/predicate/>\n",
    "            PREFIX rdfs: <http://www.w3.org/2000/01/rdf-schema#>\n",
    "            PREFIX xsd: <http://www.w3.org/2001/XMLSchema#>\n",
    "            PREFIX rdf: <http://www.w3.org/1999/02/22-rdf-syntax-ns#>\n",
    "            \"\"\"\n",
    "\n",
    "query = \"\"\"\n",
    "        SELECT ?paper, ?field_label, ?DOI, ?title, ?name, ?id, ?month_number, ?year_number, ?paper_url, ?venue_label\n",
    "WHERE {\n",
    "  ?paper a orkgc:Paper.\n",
    "  OPTIONAL{?paper rdfs:label ?title.}\n",
    "  OPTIONAL{?paper orkgp:P26 ?DOI.}\n",
    "  OPTIONAL{?paper orkgp:P30 ?field.\n",
    "           ?field rdfs:label ?field_label.}\n",
    "  OPTIONAL{?paper orkgp:P27 ?author.\n",
    "           BIND(IF(isLiteral(?author), ?author, \"\") AS ?name1)\n",
    "           OPTIONAL{?author rdfs:label ?author_label;\n",
    "                            orkgp:HAS_ORCID ?id.}\n",
    "           BIND(IF(BOUND(?author_label),?author_label, \"\") AS ?name2)\n",
    "           BIND(IF(?name1 = \"\", ?name2, ?name1) AS ?name)\n",
    "          }\n",
    "  \n",
    "  OPTIONAL{?paper orkgp:P28 ?month.\n",
    "           BIND(IF(isLiteral(?month), ?month, \"\") AS ?month1)\n",
    "           OPTIONAL{?month rdfs:label ?month_label.}\n",
    "           BIND(IF(BOUND(?month_label),?month_label, \"\") AS ?month2)\n",
    "           BIND(IF(?month1 = \"\", ?month2, ?month1) AS ?month_number)\n",
    "          }\n",
    "  \n",
    "  OPTIONAL{?paper orkgp:P29 ?year.\n",
    "           BIND(IF(isLiteral(?year), ?year, \"\") AS ?year1)\n",
    "           OPTIONAL{?year rdfs:label ?year_label.}\n",
    "           BIND(IF(BOUND(?year_label),?year_label, \"\") AS ?year2)\n",
    "           BIND(IF(?year1 = \"\", ?year2, ?year1) AS ?year_number)\n",
    "          }\n",
    "  \n",
    "  OPTIONAL{?paper orkgp:url ?paper_url.}\n",
    "  OPTIONAL{?paper orkgp:HAS_VENUE ?venue.\n",
    "           ?venue rdfs:label ?venue_label.}\n",
    "} ORDER BY ?paper\n",
    "        \"\"\"\n",
    "\n",
    "user_agent = \"WDQS-example Python/%s.%s\" % (sys.version_info[0], sys.version_info[1])\n",
    "\n",
    "sparql = SPARQLWrapper(ENDPOINT_URL, agent=user_agent)\n",
    "sparql.setQuery(PREFIXES+query)\n",
    "sparql.setReturnFormat(CSV)\n",
    "\n",
    "try:\n",
    "        results = sparql.queryAndConvert()\n",
    "except Exception as e:\n",
    "        print(e)\n",
    "\n",
    "now = datetime.now()\n",
    "with open('query_result_' + now.strftime('%Y-%m-%d') + '.csv', 'wb') as file:\n",
    "        file.write(results)\n",
    "\n",
    "#df = pd.read_csv('CLEAN-query-a_paper_and_all_metadata_optional_result_1-41364-2022.05.04.csv')\n",
    "md_df = pd.read_csv('query_result_' + now.strftime('%Y-%m-%d') + '.csv', encoding='utf-8', encoding_errors='ignore')\n",
    "\n",
    "print(md_df['paper'].nunique())"
   ]
  },
  {
   "cell_type": "markdown",
   "metadata": {},
   "source": [
    "## 1. Question: How often are which qualities of the manufactured components examined in which tailored forming process steps?\n",
    "Based on this question, we want to know which qualities of the manufactured components are typically reported in which steps of the tailored forming process. On the one hand, this information shows which qualities are prominently reported in publications on the tailored forming process. On the other hand, the answer to this question also highlights to which steps generally and for specific qualities little research has been reported so far."
   ]
  },
  {
   "cell_type": "code",
   "execution_count": 100,
   "metadata": {},
   "outputs": [
    {
     "name": "stdout",
     "output_type": "stream",
     "text": [
      "paper            0\n",
      "field_label    108\n",
      "dtype: int64\n"
     ]
    },
    {
     "data": {
      "text/plain": [
       "field_label                          \n",
       "Science                                  3216\n",
       "Bioinformatics                           1188\n",
       "Ecology and Evolutionary Biology          968\n",
       "Information Science                       324\n",
       "Artificial Intelligence                   304\n",
       "Toxicology                                295\n",
       "Computer Sciences                         238\n",
       "Urban Studies and Planning                203\n",
       "Medicinal Chemistry and Pharmaceutics     187\n",
       "Natural Language Processing               160\n",
       "Oceanography                              126\n",
       "Engineering                               108\n",
       "Virology                                  106\n",
       "Plasma and Beam Physics                    98\n",
       "Databases/Information Systems              96\n",
       "dtype: int64"
      ]
     },
     "execution_count": 100,
     "metadata": {},
     "output_type": "execute_result"
    }
   ],
   "source": [
    "\n",
    "field_df = md_df[['paper','field_label']].drop_duplicates()\n",
    "print(field_df.isnull().sum())\n",
    "\n",
    "field_df.fillna('No research field')\n",
    "field_df[['field_label']].value_counts().head(15)"
   ]
  }
 ],
 "metadata": {
  "interpreter": {
   "hash": "1753be5da04732d05159eb7bf4bc65a0acd5a0cc85597053c991de7197b9bfde"
  },
  "kernelspec": {
   "display_name": "Python 3.9.7 ('base')",
   "language": "python",
   "name": "python3"
  },
  "language_info": {
   "codemirror_mode": {
    "name": "ipython",
    "version": 3
   },
   "file_extension": ".py",
   "mimetype": "text/x-python",
   "name": "python",
   "nbconvert_exporter": "python",
   "pygments_lexer": "ipython3",
   "version": "3.9.7"
  },
  "orig_nbformat": 4
 },
 "nbformat": 4,
 "nbformat_minor": 2
}
