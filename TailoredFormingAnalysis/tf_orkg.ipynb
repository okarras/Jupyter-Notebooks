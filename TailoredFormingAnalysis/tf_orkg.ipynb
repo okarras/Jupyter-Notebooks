{
 "cells": [
  {
   "cell_type": "markdown",
   "metadata": {},
   "source": [
    "<a id='top'></a>\n",
    "## Analysis of the Tailored Forming Process Chain for the Manufacturing of Hybrid Components\n",
    "This Jupyter notebook contains several analyses of scholarly knowledge from scientific publications on the topic of *[Tailored Forming Process Chain for the Manufacturing of Hybrid Components with Bearing Raceways Using Different Material Combinations](https://orkg.org/comparison/R187049/)* from the research field *Mechanical Process Engineering*. These analyses are based on domain-specific competency questions about the described scholarly knowledge posed by domain experts in this research area. While the individual competency questions are presented below for overview, their details are explained in the respective section of this Jupyter notebook.\n",
    "\n",
    "Competency questions:\n",
    "1. [How often are certain qualities of hybrid components examined in the individual steps of the Tailored Forming process chain?](#q1)\n",
    "2. [Which material combinations are used for the manufacturing of hybrid components?](#q2)\n",
    "3. [How do the steps of the Tailored Forming process chain affect the hardness of the cladding layer of hybrid components?](#q3)\n",
    "4. [In which material combinations and steps of the Tailored Forming process chain can defects occur in hybrid components?](#q4)\n",
    "5. [What service lives can be achieved for hybrid components depending on the material combinations?](#q5)\n",
    "6. [Which manufacturing methods are used in the individual steps of the Tailored Forming process chain to manufacture the respective hybrid component?](#q6)\n",
    "7. [How often are certain manufacturing methods used in total in all described Tailored Forming process chains?](#q7)\n",
    "8. [Which microstructures are present in hybrid components after the steps of the Tailored Forming process chain?](#q8)\n",
    "\n",
    "For the description of the scholarly knowledge from such publications in this research field, we developed a [ORKG template](https://www.orkg.org/orkg/template/R150595) to consistently describe a Tailored Forming process chain for the manufacturing hybrid components. An [ORKG template](https://www.orkg.org/orkg/about/19/Templates) defines a semantic structure for consistently describing research contributions of different scientific publications so that the contributions described contain the same information in the same structure to make the publications comparable.\n",
    "This description includes the entire process chain with its steps, source materials, and resulting components with their qualities. The template makes it possible to describe each step of a process chain in terms of its sequence in the process chain, its input, its manufacturing method used, and its output with the examined qualities, their associated measurement methods, and measurement results."
   ]
  },
  {
   "cell_type": "markdown",
   "metadata": {},
   "source": [
    "## Loading data from ORKG SPAQRL endpoint\n",
    "First, the data from the publications on *Tailored Forming Process Chain for the Manufacturing of Hybrid Components* is loaded from the Open Research Knowledge Graph ([ORKG](https://www.orkg.org/orkg/)) using the developed template."
   ]
  },
  {
   "cell_type": "code",
   "execution_count": null,
   "metadata": {},
   "outputs": [],
   "source": [
    "%matplotlib widget\n",
    "import sparql_dataframe\n",
    "import seaborn as sns\n",
    "import matplotlib.pyplot as plt\n",
    "import dataframe_image as dfi\n",
    "\n",
    "#We are changing the url from orkg.org/orkg to orkg.org/ so if my query is not working this could be the issue\n",
    "ENDPOINT_URL = \"https://www.orkg.org/orkg/triplestore\"\n",
    "\n",
    "PREFIXES =  \"\"\"\n",
    "            PREFIX orkgr: <http://orkg.org/orkg/resource/>\n",
    "            PREFIX orkgc: <http://orkg.org/orkg/class/>\n",
    "            PREFIX orkgp: <http://orkg.org/orkg/predicate/>\n",
    "            PREFIX rdfs: <http://www.w3.org/2000/01/rdf-schema#>\n",
    "            PREFIX xsd: <http://www.w3.org/2001/XMLSchema#>\n",
    "            PREFIX rdf: <http://www.w3.org/1999/02/22-rdf-syntax-ns#>\n",
    "            \"\"\"\n",
    "\n",
    "query = \"\"\"\n",
    "        SELECT ?contrib_url ?contrib ?component ?step_number ?step_name ?manufacture_method ?layer ?material ?measure_method ?quality ?num_value ?textual_value ?avg_range (xsd:float(?lower_num_value) AS ?min_value) (xsd:float(?upper_num_value) AS ?max_value) ?unit\n",
    "        WHERE {\n",
    "                #Get all steps of the Tailored Forming process chains, their manufacturing methods, their resulting hybrid components, and their measurement methods (methods)\n",
    "                ?contrib_url a orkgc:C21027.\n",
    "                ?contrib_url orkgp:P7108 ?process_plan;\n",
    "                        rdfs:label ?contrib.\n",
    "                ?process_plan orkgp:P44026 ?step_n.\n",
    "                ?step_n orkgp:P7111 ?step_n_name;\n",
    "                        orkgp:P44025* ?step_n_plus_1;\n",
    "                        orkgp:P44012 ?method_n;\n",
    "                        orkgp:HAS_METHOD ?manufacturing_method_n;\n",
    "                        orkgp:P30012 ?output_n.\n",
    "                ?step_n_plus_1 orkgp:P7111 ?step_n_plus_1_name;\n",
    "                                orkgp:P44012 ?method_n_plus_1;\n",
    "                                orkgp:HAS_METHOD ?manufacturing_method_n_plus_1;\n",
    "                                orkgp:P30012 ?output_n_plus_1.\n",
    "                BIND(IF(?step_n_plus_1 = ?step_n, ?method_n, ?method_n_plus_1) AS ?method_resrc)\n",
    "                BIND(IF(?step_n_plus_1 = ?step_n, ?manufacturing_method_n, ?manufacturing_method_n_plus_1) AS ?manu_method_resrc)\n",
    "                BIND(IF(?step_n_plus_1 = ?step_n, ?output_n, ?output_n_plus_1) AS ?output)\n",
    "                \n",
    "                #Get all materials and layers of the resulting hybrid components\n",
    "                ?output orkgp:P28005 ?layer_resrc;\n",
    "                        orkgp:P7111 ?component_type.\n",
    "                ?component_type rdfs:label ?component.\n",
    "                ?layer_resrc orkgp:P3 ?layer_type;\n",
    "                             orkgp:P7000 ?material_resrc.\n",
    "                ?layer_type rdfs:label ?layer.\n",
    "                ?material_resrc orkgp:P42007 ?material_type.\n",
    "                ?material_type rdfs:label ?material.\n",
    "                \n",
    "                #Get the manufacturing method\n",
    "                ?manu_method_resrc orkgp:P7111 ?manu_method_name.\n",
    "                ?manu_method_name rdfs:label ?manufacture_method.\n",
    "                \n",
    "                #Get the qualities\n",
    "                Optional{?material_resrc orkgp:P7113 ?quality_resrc.\n",
    "                        ?quality_resrc orkgp:P7111 ?quality_type;\n",
    "                                        orkgp:P44022 ?measurement.\n",
    "                        ?quality_type rdfs:label ?quality.\n",
    "\n",
    "                        #Get the measurement method\n",
    "                        Optional{?method_resrc orkgp:P7111 ?method_name;\n",
    "                                               orkgp:HAS_RESULTS ?measurement.\n",
    "                                ?method_name rdfs:label ?measure_method.}\n",
    "\n",
    "                        #Get the range and unit of the resulting component\n",
    "                        OPTIONAL{?measurement orkgp:P44010 ?range.\n",
    "                                ?range orkgp:P43248 ?lower_value;\n",
    "                                        orkgp:P43247 ?upper_value.\n",
    "                                ?upper_value orkgp:P42000 ?range_unit.\n",
    "                                ?lower_value orkgp:P44011 ?lower_num_value.\n",
    "                                ?upper_value orkgp:P44011 ?upper_num_value.}\n",
    "\n",
    "                        #Get the measurement value and unit of the resulting component\n",
    "                        OPTIONAL{?measurement orkgp:HAS_VALUE ?value.\n",
    "                                ?value orkgp:P44011 ?measurement_value.\n",
    "                                BIND(IF(REGEX(?measurement_value, \"^\\\\\\d*\\\\\\.?\\\\\\d*$\", \"i\"), xsd:float(?measurement_value), \"\") AS ?num_value)\n",
    "                                BIND(IF(REGEX(?measurement_value, \"^\\\\\\d*\\\\\\.?\\\\\\d*$\", \"i\"), \"\", ?measurement_value) AS ?textual_value)\n",
    "                                OPTIONAL{?value orkgp:P42000 ?value_unit.}\n",
    "                                }\n",
    "                        }\n",
    "                \n",
    "                #If no value is reported, calculate the average value based on the reported range\n",
    "                BIND(IF (BOUND(?value), \"\", ((xsd:float(?lower_num_value) + xsd:float(?upper_num_value)) / 2)) AS ?avg_range).\n",
    "                \n",
    "                #Get the unit either from the single measurement value or the range\n",
    "                BIND(IF (BOUND(?value), ?value_unit, ?range_unit) AS ?unit_resrc).\n",
    "                OPTIONAL {?unit_resrc rdfs:label ?unit.}\n",
    "                \n",
    "                #Get the sequence of the step in the process plan\n",
    "                ?step_n_plus_1_name rdfs:label ?step_name.\n",
    "                BIND(STR(?step_name) AS ?step)\n",
    "                VALUES(?step ?step_number){(\"Deposition welding\" 1) (\"Hot forming\" 2) (\"Cooling\" 3) (\"Heat treatment\" 4) (\"Machining\" 5)}  \n",
    "        }\n",
    "        GROUP BY ?contrib_url ?contrib ?component ?step_number ?step_name ?manufacture_method ?layer ?material ?measure_method ?quality ?value ?num_value ?textual_value ?avg_range ?lower_num_value ?upper_num_value ?unit\n",
    "        ORDER BY ?contrib_url ?contrib ?component ?step_number ?step_name ?manufacture_method ?layer ?material ?measure_method ?quality\n",
    "        \"\"\"\n",
    "tf_data = sparql_dataframe.get(ENDPOINT_URL, PREFIXES+query)\n",
    "tf_data.head()"
   ]
  },
  {
   "cell_type": "markdown",
   "metadata": {},
   "source": [
    "<a id='q1'></a>\n",
    "### 1. Competency question: How often are certain qualities of hybrid components examined in the individual steps of the Tailored Forming process chain?\n",
    "Based on this question, we want to know which qualities of the manufactured components are typically reported after certain steps of the Tailored Forming process chain. On the one hand, this information shows which qualities are reported prominently in scientific publications on Tailored Forming process chains. On the other hand, the answer to this question also shows in which steps little research has been reported in general and for specific qualities.\n",
    "\n",
    "[Back to top](#top)"
   ]
  },
  {
   "cell_type": "code",
   "execution_count": null,
   "metadata": {},
   "outputs": [],
   "source": [
    "steps = tf_data.sort_values('step_number')[['step_number', 'step_name']].drop_duplicates()\n",
    "steps[\"step\"] = steps['step_number'].astype(str) + '. ' + steps['step_name']\n",
    "\n",
    "sns.set_style('whitegrid')\n",
    "sns.set_context('notebook')\n",
    "g = sns.catplot(x='step_number', data=tf_data, hue='quality', kind='count', height=5, aspect=1.5, facet_kws={'legend_out': True})\n",
    "g.fig.suptitle('Frequency of the examined qualities of the hybrid components\\nper step of the Tailored Forming process chain')\n",
    "g.set(xlabel='Steps of the Tailored Forming process chain', ylabel='Frequency of the examined qualities')\n",
    "g.set_xticklabels(steps['step'])\n",
    "g._legend.set_title('Examined qualities')\n",
    "plt.savefig('Images/Frequency of the examined qualities.png', dpi=300)\n",
    "plt.ion()\n",
    "plt.show()"
   ]
  },
  {
   "cell_type": "markdown",
   "metadata": {},
   "source": [
    "<a id='q2'></a>\n",
    "### 2. Competency question: Which material combinations are used for the manufacturing of hybrid components?\n",
    "Due to the large number of materials combinations for the manufacturing of hybrid components, it is necessary to know which material combinations have already been investigated for particular hybrid components. On the one hand, this overview allows researchers to find out whether similar studies already exist so that they can compare these results with their own results. On the other hand, with this overview it is possible to find out which materials combinations for certain hybrid components have not yet been studied and thus represent a gap in science that needs to be closed.\n",
    "\n",
    "[Back to top](#top)"
   ]
  },
  {
   "cell_type": "code",
   "execution_count": null,
   "metadata": {},
   "outputs": [],
   "source": [
    "material_data = tf_data.loc[:,['contrib_url','layer', 'material', 'component']].drop_duplicates()\n",
    "material_data.columns = ['Contribution URL', 'Layer', 'Material', 'Component']\n",
    "material_table = material_data.pivot(index=['Contribution URL', 'Component'], columns='Layer')\n",
    "#dfi.export(material_table, 'Images/Material combinations used for the manufacturing of hybrid components.png')\n",
    "material_table"
   ]
  },
  {
   "cell_type": "markdown",
   "metadata": {},
   "source": [
    "<a id='q3'></a>\n",
    "### 3. Competency Question: How do the steps of the Tailored Forming process chain affect the hardness of the cladding layer of hybrid components?\n",
    "The hardness of the cladding layer is an important measure for assessing the suitability of the cladding for mechanically or tribologically highly stressed component areas. For this reason, the question arises as to how the individual steps of the Tailored Forming process chain affect the hardness in the cladding layer of a hybrid component.\n",
    "\n",
    "[Back to top](#top)"
   ]
  },
  {
   "cell_type": "code",
   "execution_count": null,
   "metadata": {},
   "outputs": [],
   "source": [
    "tf_data['calc_value'] = tf_data['num_value'].fillna(tf_data['avg_range'])\n",
    "hardness_data = tf_data.query('quality == \"Hardness\" and layer == \"Cladding layer\"')[['contrib_url','step_number', 'step_name', 'calc_value', 'unit']]\n",
    "grouped_hardness = hardness_data.groupby('contrib_url')\n",
    "\n",
    "fig, (ax1, ax2) = plt.subplots(2)\n",
    "fig.set_size_inches(12, 12)\n",
    "\n",
    "lines = []\n",
    "for name, group in grouped_hardness:\n",
    "    if (group['unit'][:1].item() != 'Gigapascal') :\n",
    "        line, = ax1.plot(group['step_number'], group['calc_value'], marker='o', linewidth=2.5, label=name+', ['+group['unit'][:1].item()+']')\n",
    "        lines.append(line)\n",
    "    else:\n",
    "        ax2.plot(group['step_number'], group['calc_value'], marker='o', linewidth=2.5, label=name+', ['+group['unit'][:1].item()+']')\n",
    "        \n",
    "ax1.set_title('Hardness of the cladding layer of hybrid components along the Tailored Forming process chain')\n",
    "ax1.set_xticks(steps['step_number'])\n",
    "ax1.set_xticklabels(steps['step'])\n",
    "ax1.set_xlabel('Steps of the Tailored Forming process chain')\n",
    "ax1.set_ylabel('Hardness [HV]')\n",
    "legend1 = ax1.legend(loc='center right', bbox_to_anchor=(1.1, 0.27))\n",
    "legend1.set_title('Click on legend line to toggle line on/off')\n",
    "\n",
    "lined = {}  # Will map legend lines to original lines.\n",
    "for legline, origline in zip(legend1.get_lines(), lines):\n",
    "    legline.set_picker(True)  # Enable picking on the legend line.\n",
    "    legline.set_pickradius(5)\n",
    "    lined[legline] = origline\n",
    "\n",
    "def on_pick(event):\n",
    "    # On the pick event, find the original line corresponding to the legend\n",
    "    # proxy line, and toggle its visibility.\n",
    "    legline = event.artist\n",
    "    origline = lined[legline]\n",
    "    visible = not origline.get_visible()\n",
    "    origline.set_visible(visible)\n",
    "    # Change the alpha on the line in the legend so we can see what lines\n",
    "    # have been toggled.\n",
    "    legline.set_alpha(1.0 if visible else 0.2)\n",
    "    fig.canvas.draw()\n",
    "\n",
    "ax2.set_title('Hardness of the cladding layer of hybrid components along the Tailored Forming process chain')\n",
    "ax2.set_xticks(steps['step_number'])\n",
    "ax2.set_xticklabels(steps['step'])\n",
    "ax2.set_xlabel('Steps of the Tailored Forming process chain')\n",
    "ax2.set_ylabel('Hardness [GPa]')\n",
    "legend2 = ax2.legend(loc='lower right')\n",
    "\n",
    "plt.connect('pick_event', on_pick)\n",
    "plt.savefig('Images/Hardness in the cladding layer.png', dpi=300)\n",
    "plt.show()"
   ]
  },
  {
   "cell_type": "markdown",
   "metadata": {},
   "source": [
    "<a id='q4'></a>\n",
    "### 4. Competency Question: In which material combinations and steps of the Tailored Forming process chain can defects occur in hybrid components?\n",
    "Various defects, such as pores and cracks, can occur during the manufacturing of hybrid components. It is important to know at which steps and material combinations these defects occur to assess the applicability of the Tailored Forming process chain for component manufacturing and to identify optimization potential.\n",
    "\n",
    "[Back to top](#top)"
   ]
  },
  {
   "cell_type": "code",
   "execution_count": null,
   "metadata": {},
   "outputs": [],
   "source": [
    "defects_data = tf_data[((tf_data.quality == 'Pores') | (tf_data.quality == 'Mannesmann effect') | (tf_data.quality == 'Cracks')) & (tf_data.textual_value == 'true')][['contrib_url', 'component', 'layer', 'material', 'quality', 'step_name', 'step_number']]\n",
    "defects_data_complete = defects_data.merge(tf_data, on=['contrib_url', 'step_name'], how='left')[['contrib_url', 'component_x', 'layer_x', 'material_x', 'layer_y', 'material_y', 'quality_x', 'step_name', 'step_number_x']].drop_duplicates()\n",
    "\n",
    "to_delete = defects_data_complete[defects_data_complete.layer_x == defects_data_complete.layer_y]\n",
    "final_defect_df = defects_data_complete.drop(to_delete.index, inplace=False)\n",
    "final_defect_df.columns = ['Contribution URL', 'Component', 'Layer with Defect', 'Material with Defect', 'Other Layer', 'Other Material', 'Defect', 'Step Name', 'Step Number']\n",
    "#dfi.export(final_defect_df, 'Images/Defects in material combinations and steps.png')\n",
    "final_defect_df"
   ]
  },
  {
   "cell_type": "markdown",
   "metadata": {},
   "source": [
    "<a id='q5'></a>\n",
    "### 5. Competency Question: What service lives can be achieved for hybrid components depending on the material combinations?\n",
    "An important criterion for components subjected to rolling loads is the service life, which is determined on test rigs. The service life depends on the materials used and other parameters such as hardness and number of defects.\n",
    "\n",
    "[Back to top](#top)"
   ]
  },
  {
   "cell_type": "code",
   "execution_count": null,
   "metadata": {},
   "outputs": [],
   "source": [
    "fatigue_data = tf_data[(tf_data.quality == 'Fatigue') & (tf_data.step_number == 5)][['contrib_url', 'component', 'calc_value', 'unit']]\n",
    "\n",
    "g = sns.catplot(x='calc_value', y='contrib_url', data=fatigue_data, kind='bar', height=5, aspect=1.8, facet_kws={'legend_out': True})\n",
    "g.fig.suptitle('Service life of hybrid components', y=1.0)\n",
    "g.set(xlabel='Service life [h]', ylabel='Hybrid components')\n",
    "plt.savefig('Images/Service life of hybrid components.png', dpi=300)\n",
    "plt.show()"
   ]
  },
  {
   "cell_type": "markdown",
   "metadata": {},
   "source": [
    "<a id='q6'></a>\n",
    "### 6. Competency Question: Which manufacturing methods are used in the individual steps of the Tailored Forming process chain to manufacture the respective hybrid component?\n",
    "In addition to the higher-level steps of the Tailored Forming process chain, e.g., Hot Forming, it is also of interest to know exactly which manufacturing methods were used in the individual steps to manufacture the hybrid components. This overview therefore shows in detail the manufacturing methods used in each step used and in which order.\n",
    "\n",
    "[Back to top](#top)"
   ]
  },
  {
   "cell_type": "code",
   "execution_count": null,
   "metadata": {},
   "outputs": [],
   "source": [
    "method_data = tf_data.loc[:,['contrib_url','component', 'step_number', 'step_name', 'manufacture_method']].drop_duplicates().sort_values('step_number')\n",
    "method_data.columns = ['Contribution URL', 'Component', 'Step Number', 'Step Name', 'Manufacturing Method']\n",
    "mehtod_table = method_data.pivot(index=['Contribution URL', 'Component'], columns=['Step Number', 'Step Name'], values='Manufacturing Method').fillna('--', inplace=False)\n",
    "#dfi.export(mehtod_table, 'Images/Manufacturing methods used in each step.png')\n",
    "mehtod_table"
   ]
  },
  {
   "cell_type": "markdown",
   "metadata": {},
   "source": [
    "<a id='q7'></a>\n",
    "### 7. Competency Question: How often are certain manufacturing methods used in total in all described Tailored Forming process chains?\n",
    "The overview of the manufacturing methods used and their frequency makes it possbile to determine previous research priorities and identify research gaps.\n",
    "\n",
    "[Back to top](#top)"
   ]
  },
  {
   "cell_type": "code",
   "execution_count": null,
   "metadata": {},
   "outputs": [],
   "source": [
    "g = sns.catplot(y='Manufacturing Method', data=method_data, kind='count', height=5, aspect=2.3, facet_kws={'legend_out': True})\n",
    "g.fig.suptitle('Frequency of the manufacturing methods used in total in all described Tailoted Forming process chains', y=1.0)\n",
    "g.set(xlabel='Frequency of manufacturing methods used', ylabel='Manufacturing methods')\n",
    "plt.savefig('Images/Frequency of manufacturing methods used.png', dpi=300)\n",
    "plt.show()"
   ]
  },
  {
   "cell_type": "markdown",
   "metadata": {},
   "source": [
    "<a id='q8'></a>\n",
    "### 8. Competency Question: Which microstructures are present in hybrid components after the steps of the Tailored Forming process chain?\n",
    "After each step of the Tailored Forming process chain, changes in the microstructure may occur due to the manufacturing method used. Knowledge of these microstructural changes is necessary for the design of a process chain. An overview of the microstructure in the cladding layer and in the base material after the steps of the respective Tailored Forming process chain is given.\n",
    "\n",
    "[Back to top](#top)"
   ]
  },
  {
   "cell_type": "code",
   "execution_count": null,
   "metadata": {},
   "outputs": [],
   "source": [
    "microstructure_data = tf_data[tf_data.quality == 'Microstructure'][['contrib_url', 'component', 'layer', 'material', 'textual_value', 'step_name', 'step_number']]\n",
    "microstructure_data.columns = ['Contribution URL', 'Component', 'Layer', 'Material', 'Microstructure', 'Step Name', 'Step Number']\n",
    "#dfi.export(microstructure_data, 'Images/Microstructures after the steps for the Tailored Forming process chains.png')\n",
    "microstructure_data"
   ]
  }
 ],
 "metadata": {
  "kernelspec": {
   "display_name": "Python 3.9.7 ('base')",
   "language": "python",
   "name": "python3"
  },
  "language_info": {
   "codemirror_mode": {
    "name": "ipython",
    "version": 3
   },
   "file_extension": ".py",
   "mimetype": "text/x-python",
   "name": "python",
   "nbconvert_exporter": "python",
   "pygments_lexer": "ipython3",
   "version": "3.9.7"
  },
  "orig_nbformat": 4,
  "vscode": {
   "interpreter": {
    "hash": "16a8259e1791bb0fb9bae0f359302269cb6b9f3eeeb34666ca6d1d1ecd9183a5"
   }
  }
 },
 "nbformat": 4,
 "nbformat_minor": 2
}
