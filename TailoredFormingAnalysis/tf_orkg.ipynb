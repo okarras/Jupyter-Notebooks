{
 "cells": [
  {
   "cell_type": "markdown",
   "metadata": {},
   "source": [
    "# Analysis of Tailored Forming Manufacturing Processes"
   ]
  },
  {
   "cell_type": "code",
   "execution_count": 4,
   "metadata": {},
   "outputs": [
    {
     "name": "stdout",
     "output_type": "stream",
     "text": [
      "b'\"a\"\\n'\n"
     ]
    }
   ],
   "source": [
    "from SPARQLWrapper import SPARQLWrapper, CSV\n",
    "\n",
    "sparql = SPARQLWrapper('https://www.orkg.org/orkg/triplestore')\n",
    "sparql.setReturnFormat(CSV)\n",
    "\n",
    "# gets the first 3 geological ages\n",
    "# from a Geological Timescale database,\n",
    "# via a SPARQL endpoint\n",
    "sparql.setQuery(\"\"\"\n",
    "    PREFIX gts: <http://resource.geosciml.org/ontology/timescale/gts#>\n",
    "\n",
    "    SELECT *\n",
    "    WHERE {\n",
    "        ?a a gts:Age .\n",
    "    }\n",
    "    ORDER BY ?a\n",
    "    LIMIT 3\n",
    "    \"\"\"\n",
    ")\n",
    "\n",
    "try:\n",
    "    sparql.setReturnFormat(CSV)\n",
    "    results = sparql.query().convert()\n",
    "    print(results)\n",
    "except Exception as e:\n",
    "    print(e)"
   ]
  },
  {
   "cell_type": "code",
   "execution_count": 1,
   "metadata": {},
   "outputs": [],
   "source": [
    "from orkg import ORKG\n",
    "\n",
    "orkg = ORKG(host='https://orkg.org/orkg', simcomp_host='https://orkg.org/orkg/simcomp')\n",
    "\n"
   ]
  }
 ],
 "metadata": {
  "interpreter": {
   "hash": "1753be5da04732d05159eb7bf4bc65a0acd5a0cc85597053c991de7197b9bfde"
  },
  "kernelspec": {
   "display_name": "Python 3.9.7 ('base')",
   "language": "python",
   "name": "python3"
  },
  "language_info": {
   "codemirror_mode": {
    "name": "ipython",
    "version": 3
   },
   "file_extension": ".py",
   "mimetype": "text/x-python",
   "name": "python",
   "nbconvert_exporter": "python",
   "pygments_lexer": "ipython3",
   "version": "3.9.7"
  },
  "orig_nbformat": 4
 },
 "nbformat": 4,
 "nbformat_minor": 2
}
