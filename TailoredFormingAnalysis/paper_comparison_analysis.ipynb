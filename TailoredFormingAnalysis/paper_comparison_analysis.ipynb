{
 "cells": [
  {
   "cell_type": "markdown",
   "metadata": {},
   "source": [
    "# Analysis of Described Contributions in Comparisons and Papers in the ORKG\n",
    "In this notebook, I analyze the described contributions contained in various comparisons and papers in the Open Research Knowledge Graph ([ORKG](https://www.orkg.org)) in terms of their design complexity. The goal of this analysis is to understand how complex contributions in existing comparisons and papers are described to compare their complexity to that of my described contributions that belong to a specific comparison on *[Tailored Forming Process Chain for the Manufacturing of Hybrid Components with Bearing Raceways Using Different Material Combinations](https://orkg.org/comparison/R187049/)* from the research field *Mechanical Process Engineering*. In this way, I want to assess how comparable my comparison and the described contributions are with other comparisons and described contributions that are cited in a published articles. In particular, I investigate the distinct number of resources, literals, and predicates used in described contributions as these numbers are indicators for the design complexity. \n",
    "\n",
    "In the [first part](#p1), I analyze nine sets of described contributions in papers and comparisons that belong to published articles that cite the respective papers or comparisons in their article.\n",
    "\n",
    "In the [second part](#p2), I analyze all comparsions in the ORKG that have been published with a DOI. The first analysis and its results are limited as I need to know the articles that cite the papers or comparisons of their described contributions in the ORKG. Unfortunately, the ORKG does not have a feature to identify which articles cite content from the ORKG. For this reason, I came up with the idea to go the other way by analyzing the comparison that have been published with an DOI in the ORKG. These comparsions and their described contributions are meant to be cited and are thus similar to those in the first analysis."
   ]
  },
  {
   "cell_type": "markdown",
   "metadata": {},
   "source": [
    "<a id='p1'></a>\n",
    "## 1) Analysis of Nine Sets of Described Contributions in Papers and Comparisons Cited in Published Articles\n",
    "\n",
    "In the following, I list the corresponding articles and a table with the results of the following code cell with some addtional data.\n",
    "\n",
    "List of articles that cite the described contributions in papers or comparsions in the ORKG:\n",
    "1. Carsten Knoll: [Examining the ORKG Towards Representation of Control Theoretic Knowledge - Preliminary Experiences and Conclusions](https://www2022.thewebconf.org/PaperFiles/116.pdf)\n",
    "2. Mila Runnwerth et al.: [Operational Research Literature as a Use Case for the Open Research Knowledge Graph](https://link.springer.com/chapter/10.1007/978-3-030-52200-1_32)\n",
    "3. Oliver Karras et al.: [Researcher or Crowd Member? Why not both! The Open Research Knowledge Graph for Applying and Communicating CrowdRE Research](https://ieeexplore.ieee.org/document/9582384)\n",
    "4. Sören Auer et al.: [Improving Access to Scientific Literature with Knowledge Graphs](https://www.degruyter.com/document/doi/10.1515/bfp-2020-2042/html)\n",
    "5. Marco Anteghini et al.: [Representing Semantified Biological Assays in the Open Research Knowledge Graph](https://link.springer.com/chapter/10.1007/978-3-030-64452-9_8)\n",
    "\n",
    "| Publication ID | Research field                     | #Comparisons | #Papers | #Contributions | #Resources | #Literals | #Predicates | #RelatedResources | #RelatedFigues |\n",
    "|----------------|------------------------------------|--------------|---------|----------------|------------|-----------|-------------|-------------------|----------------|\n",
    "| 1              | Control Theory                     | 0            | 5       | 5              | 30         | 11        | 9           | 0                 | 0              |\n",
    "| 2              | Numerical Analysis and Computation | 0            | 6       | 6              | 28         | 0         | 6           | 0                 | 0              |\n",
    "| 3              | Software Engineering               | 1            | 19      | 19             | 212        | 398       | 12          | 0                 | 0              |\n",
    "| 3              | Software Engineering               | 1            | 27      | 27             | 181        | 323       | 17          | 0                 | 0              |\n",
    "| 4              | Artificial Intelligence            | 1            | 17      | 17             | 82         | 17        | 22          | 0                 | 0              |\n",
    "| 4              | Virology                           | 1            | 21      | 31             | 139        | 197       | 17          | 2                 | 2              |\n",
    "| 4              | Inorganic Chemistry                | 1            | 16      | 16             | 19         | 95        | 8           | 0                 | 0              |\n",
    "| 4              | Databases/Information Systems      | 1            | 6       | 6              | 13         | 38        | 23          | 0                 | 0              |\n",
    "| 5              | Molecular Biology                  | 1            | 3       | 3              | 79         | 1         | 22          | 0                 | 0              |\n",
    "\n",
    "Data of my comparison:\n",
    "| Research field                     | #Comparisons | #Papers | #Contributions | #Resources | #Literals | #Predicates | #RelatedResources | #RelatedFigues |\n",
    "|------------------------------------|--------------|---------|----------------|------------|-----------|-------------|-------------------|----------------|\n",
    "| Mechnical Process Engineering      | 1            | 5       | 10             | 670        | 131       | 30          | 1                 | 8              |"
   ]
  },
  {
   "cell_type": "code",
   "execution_count": 8,
   "metadata": {},
   "outputs": [
    {
     "name": "stdout",
     "output_type": "stream",
     "text": [
      "<class 'pandas.core.frame.DataFrame'>\n",
      "Index: 23 entries, research problem to has system measurements/spectrometer measurement/has text\n",
      "Data columns (total 8 columns):\n",
      " #   Column                                                                                                                                                           Non-Null Count  Dtype \n",
      "---  ------                                                                                                                                                           --------------  ----- \n",
      " 0   Charge Exchange-Induced X-Ray Emission from Comet C/1999 S4 (LINEAR)/ASTRO X-ray comet Lisse 2001                                                                23 non-null     object\n",
      " 1   <i>Chandra</i>Observations of Comet 2P/Encke 2003: First Detection of a Collisionally Thin, Fast Solar Wind Charge Exchange System/ASTRO X-ray comet Lisse 2005  23 non-null     object\n",
      " 2   Spectral analysis of the Chandra comet survey/ASTRO X-ray comet Bodewits 2007                                                                                    23 non-null     object\n",
      " 3   X-RAY EMISSION FROM PLANETS AND COMETS: RELATIONSHIP WITH SOLAR X-RAYS AND SOLAR WIND/ASTRO X-ray planet Bhardwaj 2009                                           23 non-null     object\n",
      " 4   CHANDRA'S CLOSE ENCOUNTER WITH THE DISINTEGRATING COMETS 73P/2006 (SCHWASSMANN-WACHMANN 3) FRAGMENT B AND C/1999 S4 (LINEAR)/ASTRO X-ray comet Wolk 2009         23 non-null     object\n",
      " 5   CHANDRA´S OBSERVATIONS OF COMETS 8P/TUTTLE AND 17P/HOLMES DURING SOLAR MINIMUM/ASTRO X-ray comet Christian 2010                                                  23 non-null     object\n",
      " 6   CHANDRA OBSERVATIONS OF COMETS C/2012 S1 (ISON) AND C/2011 L4 (PanSTARRS)/ASTRO X-ray comet  Snios 2016                                                          23 non-null     object\n",
      " 7   The Presence of Dust and Ice Scattering in X-Ray Emissions from Comets/ASTRO X-ray comet  Snios 2018                                                             23 non-null     object\n",
      "dtypes: object(8)\n",
      "memory usage: 1.6+ KB\n",
      "None\n"
     ]
    }
   ],
   "source": [
    "from orkg import ORKG\n",
    "\n",
    "orkg = ORKG(host=\"https://orkg.org/\", simcomp_host=\"https://orkg.org/simcomp\")\n",
    "df = orkg.contributions.compare_dataframe(comparison_id='R274032', like_ui=True)\n",
    "print(df.info())"
   ]
  },
  {
   "cell_type": "code",
   "execution_count": null,
   "metadata": {},
   "outputs": [],
   "source": [
    "import sparql_dataframe\n",
    "import seaborn as sns\n",
    "import matplotlib.pyplot as plt\n",
    "import dataframe_image as dfi\n",
    "import pandas as pd\n",
    "from orkg import ORKG\n",
    "from datetime import datetime\n",
    "\n",
    "orkg = ORKG(host=\"https://www.orkg.org/\")\n",
    "\n",
    "# Contributions of publication ID 1\n",
    "pub1_contrib_res_id = ['R164083', 'R164072', 'R164067', 'R163740', 'R162666']\n",
    "# Contributions of publication ID 2\n",
    "pub2_contrib_res_id =['R12073', 'R12068', 'R12059', 'R12018', 'R10193', 'R12165']\n",
    "# Contributions of publication ID 3, first entry\n",
    "pub3_1_contrib_res_id = ['R78434', 'R77179', 'R76800', 'R78373', 'R78394', 'R78468', 'R76825', 'R78457', 'R108210', 'R109123', 'R111925', 'R111971', 'R111981', 'R111990', 'R112002', 'R112017', 'R112023', 'R112040', 'R112046']\n",
    "# Contributions of publication ID 3, second entry\n",
    "pub3_2_contrib_res_id = ['R108201', 'R76820', 'R113069', 'R113215', 'R113206', 'R113198', 'R76128', 'R76120', 'R113183', 'R113175', 'R76355', 'R76125', 'R76794', 'R113162', 'R113153', 'R113139', 'R113124', 'R113087', 'R113056', 'R113033', 'R113010', 'R112474', 'R112436', 'R112427', 'R112418', 'R112409', 'R111443']\n",
    "# Contributions of publication ID 4, first entry\n",
    "pub_4_1_contrib_res_id = ['R6381', 'R6354', 'R6351', 'R6365', 'R6314', 'R6384', 'R6271', 'R6323', 'R6399', 'R6304', 'R6301', 'R6269', 'R6275', 'R6402', 'R6320', 'R6317', 'R6396']\n",
    "# Contributions of publication ID 4, second entry\n",
    "pub_4_2_contrib_res_id = ['R44727', 'R44766', 'R44771', 'R44777', 'R44781', 'R44785', 'R44914', 'R44921', 'R44744', 'R44749', 'R44754', 'R44789', 'R44794', 'R44880', 'R44808', 'R44866', 'R44832', 'R44828', 'R44875', 'R44843', 'R44852', 'R44857', 'R44861', 'R44838', 'R44902', 'R44906', 'R44801', 'R44815', 'R44820', 'R44732', 'R44738']\n",
    "# Contributions of publication ID 4, third entry\n",
    "pub_4_3_contrib_res_id = ['R41147', 'R41145', 'R41143', 'R41141', 'R41139', 'R41137', 'R41135', 'R41133', 'R41131', 'R41129', 'R41127', 'R41125', 'R41123', 'R41121', 'R41118', 'R41116']\n",
    "# Contributions of publication ID 4, fourth entry\n",
    "pub_4_4_contrib_res_id = ['R50007', 'R50009', 'R50013', 'R49596', 'R78018', 'R78016']\n",
    "# Contributions of publication ID 5s\n",
    "pub_5_contrib_res_id = ['R48195', 'R48179', 'R48147']\n",
    "#Contributions of my comparison\n",
    "mechanical_process_eng_contrib_res_id = ['R171849','R172247','R172160', 'R172322', 'R162790', 'R162733', 'R162788', 'R145734', 'R145731', 'R175728']\n",
    "\n",
    "all_contributions = [pub1_contrib_res_id, pub2_contrib_res_id, pub3_1_contrib_res_id, pub3_2_contrib_res_id, pub_4_1_contrib_res_id, pub_4_2_contrib_res_id, pub_4_3_contrib_res_id, pub_4_4_contrib_res_id, pub_5_contrib_res_id, mechanical_process_eng_contrib_res_id]\n",
    "\n",
    "def count_RPL(resid):\n",
    "    resources = set({})\n",
    "    literals = set({})\n",
    "    predicates = set({})\n",
    "\n",
    "    for id in resid:\n",
    "        statements = orkg.statements.bundle(thing_id=id).content['statements']\n",
    "    \n",
    "        for statement in statements:\n",
    "            cls = statement['subject']['_class']\n",
    "            if cls == 'resource':\n",
    "                resources.add(statement['subject']['id'])\n",
    "            else:\n",
    "                literals.add(statement['subject']['id'])\n",
    "            \n",
    "            cls = statement['object']['_class']\n",
    "            if cls == 'resource':\n",
    "                resources.add(statement['object']['id'])\n",
    "            else:\n",
    "                literals.add(statement['object']['id'])\n",
    "            \n",
    "            predicates.add(statement['predicate']['id'])\n",
    "    \n",
    "    return len(resources), len(literals), len(predicates)\n",
    "\n",
    "results = pd.DataFrame({'#Resources': pd.Series(dtype='int'), '#Literals': pd.Series(dtype='int'), '#Predicates': pd.Series(dtype='int')})\n",
    "\n",
    "for element in all_contributions:\n",
    "   r, l, p = count_RPL(element)\n",
    "   results = results.append({'#Resources':r, '#Literals':l, '#Predicates':p}, ignore_index=True)\n",
    "   #print(f'For contributions({element}): you have distinct {r} resource, {l} literals, and {p} predicate')\n",
    "\n",
    "results.head()"
   ]
  },
  {
   "cell_type": "code",
   "execution_count": null,
   "metadata": {},
   "outputs": [],
   "source": [
    "results.describe()"
   ]
  },
  {
   "cell_type": "markdown",
   "metadata": {},
   "source": [
    "<a id='p2'></a>\n",
    "## 2) Analysis of Described Contribution in Comparsions Published with DOI\n",
    "\n",
    "For this analysis, I first query the ORGK via its SPARQL endpoint to obtain all comparsions with DOI, their research fields, the included papers, described contributions as well as the number of related resources and related figures. While related resources are supplementary materials such as Jupyter Notebooks, related figures are addtional figues that supplement the respective comparsion."
   ]
  },
  {
   "cell_type": "code",
   "execution_count": null,
   "metadata": {},
   "outputs": [],
   "source": [
    "ENDPOINT_URL = \"https://www.orkg.org/triplestore\"\n",
    "\n",
    "PREFIXES =  \"\"\"\n",
    "            PREFIX orkgr: <http://orkg.org/orkg/resource/>\n",
    "            PREFIX orkgc: <http://orkg.org/orkg/class/>\n",
    "            PREFIX orkgp: <http://orkg.org/orkg/predicate/>\n",
    "            PREFIX rdfs: <http://www.w3.org/2000/01/rdf-schema#>\n",
    "            PREFIX xsd: <http://www.w3.org/2001/XMLSchema#>\n",
    "            PREFIX rdf: <http://www.w3.org/1999/02/22-rdf-syntax-ns#>\n",
    "            \"\"\"\n",
    "\n",
    "query = \"\"\"\n",
    "        SELECT ?comparison, ?contribution, ?paper, COUNT(DISTINCT ?related_resource) AS ?numberOfRelatedResources, COUNT(DISTINCT ?related_figure) AS ?numberOfRelatedFigures, ?researchField\n",
    "            WHERE {\n",
    "                ?comparison a orkgc:Comparison;\n",
    "                            orkgp:P26 ?DOI;\n",
    "                            orkgp:compareContribution ?contribution.\n",
    "                ?paper orkgp:P31 ?contribution.\n",
    "                OPTIONAL{?comparison orkgp:hasSubject ?field.\n",
    "                         ?field rdfs:label ?researchField}\n",
    "                OPTIONAL{?comparison orkgp:RelatedResource ?related_resource;\n",
    "                                     orkgp:RelatedFigure ?related_figure}\n",
    "            }\n",
    "            ORDER BY ?comparison\n",
    "        \"\"\"\n",
    "data = sparql_dataframe.get(ENDPOINT_URL, PREFIXES+query)\n",
    "data.head()"
   ]
  },
  {
   "cell_type": "code",
   "execution_count": null,
   "metadata": {},
   "outputs": [],
   "source": [
    "comparsions= data.drop_duplicates(subset=['comparison'])[['comparison', 'numberOfRelatedResources', 'numberOfRelatedFigures', 'researchField']]\n",
    "\n",
    "result = pd.DataFrame({'comparison': pd.Series(dtype='str'), 'number_of_papers': pd.Series(dtype='int'), 'number_of_contributions': pd.Series(dtype='int'), 'number_of_resources': pd.Series(dtype='int'), 'number_of_literals': pd.Series(dtype='int'), 'number_of_predicates': pd.Series(dtype='int'), 'number_of_related_resources': pd.Series(dtype='int'), 'number_of_related_figures': pd.Series(dtype='int'), 'research_field': pd.Series(dtype='str')})\n",
    "\n",
    "for index, row1 in comparsions.iterrows():\n",
    "    contribution_list = set({})\n",
    "    paper_list = set({})\n",
    "    for index, row2 in data.iterrows():\n",
    "        if row1['comparison'] == row2['comparison']:\n",
    "            contribution_list.add(row2['contribution'].split('/')[-1])\n",
    "            paper_list.add(row2['paper'])\n",
    "    r, l, p = count_RPL(contribution_list)\n",
    "    result = result.append({'comparison':row1['comparison'], 'number_of_papers': len(paper_list), 'number_of_contributions':len(contribution_list), 'number_of_resources': r, 'number_of_literals': l, 'number_of_predicates': p, 'number_of_related_resources': row1['numberOfRelatedResources'], 'number_of_related_figures': row1['numberOfRelatedFigures'], 'research_field': row1['researchField']}, ignore_index=True)\n",
    "    print(row1['comparison'], r, l, p)\n",
    "    \n",
    "now = datetime.now()\n",
    "result.to_csv('query_result_' + now.strftime('%Y-%m-%d') + '.csv', encoding='utf-8')\n",
    "result.head(16)"
   ]
  },
  {
   "cell_type": "code",
   "execution_count": null,
   "metadata": {},
   "outputs": [],
   "source": [
    "result.describe()"
   ]
  },
  {
   "cell_type": "code",
   "execution_count": null,
   "metadata": {},
   "outputs": [],
   "source": [
    "print(result[['research_field']].value_counts())"
   ]
  }
 ],
 "metadata": {
  "kernelspec": {
   "display_name": "Python 3.9.7 ('base')",
   "language": "python",
   "name": "python3"
  },
  "language_info": {
   "codemirror_mode": {
    "name": "ipython",
    "version": 3
   },
   "file_extension": ".py",
   "mimetype": "text/x-python",
   "name": "python",
   "nbconvert_exporter": "python",
   "pygments_lexer": "ipython3",
   "version": "3.9.15"
  },
  "orig_nbformat": 4,
  "vscode": {
   "interpreter": {
    "hash": "16a8259e1791bb0fb9bae0f359302269cb6b9f3eeeb34666ca6d1d1ecd9183a5"
   }
  }
 },
 "nbformat": 4,
 "nbformat_minor": 2
}
